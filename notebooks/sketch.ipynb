{
 "cells": [
  {
   "cell_type": "code",
   "execution_count": 2,
   "metadata": {
    "colab": {
     "base_uri": "https://localhost:8080/",
     "height": 888
    },
    "id": "LTW2HiKbtBNA",
    "outputId": "840fc941-3930-4301-dfca-dca6e780d7e6"
   },
   "outputs": [
    {
     "name": "stdout",
     "output_type": "stream",
     "text": [
      "module <tensorflow.python.saved_model.load.Loader._recreate_base_user_object.<locals>._UserObject object at 0x7fc89c145d60> loaded\n"
     ]
    }
   ],
   "source": [
    "import pandas as pd \n",
    "import numpy as np\n",
    "from nltk.cluster import KMeansClusterer\n",
    "from nltk.cluster.util import cosine_distance, euclidean_distance\n",
    "\n",
    "import tensorflow as tf\n",
    "#tf.enable_eager_execution()\n",
    "\n",
    "import tensorflow_hub as hub\n",
    "\n",
    "\n",
    "model = hub.load('../universal-sentence-encoder_4')\n",
    "print (\"module %s loaded\" % model)\n",
    "def embed(input):\n",
    "    return model(input)"
   ]
  },
  {
   "cell_type": "code",
   "execution_count": null,
   "metadata": {
    "colab": {
     "base_uri": "https://localhost:8080/",
     "height": 380
    },
    "id": "svWc2E9etjSS",
    "outputId": "9c51ab79-59eb-40fd-f79a-985caf522015"
   },
   "outputs": [
    {
     "data": {
      "text/html": [
       "<div>\n",
       "<style scoped>\n",
       "    .dataframe tbody tr th:only-of-type {\n",
       "        vertical-align: middle;\n",
       "    }\n",
       "\n",
       "    .dataframe tbody tr th {\n",
       "        vertical-align: top;\n",
       "    }\n",
       "\n",
       "    .dataframe thead th {\n",
       "        text-align: right;\n",
       "    }\n",
       "</style>\n",
       "<table border=\"1\" class=\"dataframe\">\n",
       "  <thead>\n",
       "    <tr style=\"text-align: right;\">\n",
       "      <th></th>\n",
       "      <th>market</th>\n",
       "      <th>url</th>\n",
       "      <th>title</th>\n",
       "      <th>content</th>\n",
       "    </tr>\n",
       "  </thead>\n",
       "  <tbody>\n",
       "    <tr>\n",
       "      <th>0</th>\n",
       "      <td>https://support.n26.com/de-at/app-und-produkte...</td>\n",
       "      <td>de-at</td>\n",
       "      <td>Was sind Spaces?</td>\n",
       "      <td>Setze dir Ziele, erstelle, personalisiere und ...</td>\n",
       "    </tr>\n",
       "    <tr>\n",
       "      <th>1</th>\n",
       "      <td>https://support.n26.com/en-es/account-and-pers...</td>\n",
       "      <td>en-es</td>\n",
       "      <td>How to download my personal data?</td>\n",
       "      <td>The General Data Protection Regulation (GDPR) ...</td>\n",
       "    </tr>\n",
       "    <tr>\n",
       "      <th>2</th>\n",
       "      <td>https://support.n26.com/de-at/zahlungen-ueberw...</td>\n",
       "      <td>de-at</td>\n",
       "      <td>Wie lange dauert eine Überweisung mit Transfer...</td>\n",
       "      <td>Wenn du eine Überweisung mit TransferWise mach...</td>\n",
       "    </tr>\n",
       "    <tr>\n",
       "      <th>3</th>\n",
       "      <td>https://support.n26.com/en-de/app-and-features...</td>\n",
       "      <td>en-de</td>\n",
       "      <td>How to manage my visibility as an N26 user?</td>\n",
       "      <td>To grant you access to all our in-app features...</td>\n",
       "    </tr>\n",
       "    <tr>\n",
       "      <th>4</th>\n",
       "      <td>https://support.n26.com/en-de/payments-transfe...</td>\n",
       "      <td>en-de</td>\n",
       "      <td>How often can I withdraw cash for free?</td>\n",
       "      <td>Cash withdrawals using your Mastercard depend ...</td>\n",
       "    </tr>\n",
       "  </tbody>\n",
       "</table>\n",
       "</div>"
      ],
      "text/plain": [
       "                                              market  ...                                            content\n",
       "0  https://support.n26.com/de-at/app-und-produkte...  ...  Setze dir Ziele, erstelle, personalisiere und ...\n",
       "1  https://support.n26.com/en-es/account-and-pers...  ...  The General Data Protection Regulation (GDPR) ...\n",
       "2  https://support.n26.com/de-at/zahlungen-ueberw...  ...  Wenn du eine Überweisung mit TransferWise mach...\n",
       "3  https://support.n26.com/en-de/app-and-features...  ...  To grant you access to all our in-app features...\n",
       "4  https://support.n26.com/en-de/payments-transfe...  ...  Cash withdrawals using your Mastercard depend ...\n",
       "\n",
       "[5 rows x 4 columns]"
      ]
     },
     "execution_count": 175,
     "metadata": {
      "tags": []
     },
     "output_type": "execute_result"
    }
   ],
   "source": [
    "extracted_n26 = pd.read_csv('extracted_n26.csv', index_col=0)\n",
    "extracted_data = extracted_n26.values.tolist()\n",
    "extracted_n26.head()"
   ]
  },
  {
   "cell_type": "code",
   "execution_count": null,
   "metadata": {
    "colab": {
     "base_uri": "https://localhost:8080/",
     "height": 245
    },
    "id": "68SNMtPAtFai",
    "outputId": "f6ddaf22-138b-4e2f-cc78-759daba0ae77"
   },
   "outputs": [
    {
     "name": "stdout",
     "output_type": "stream",
     "text": [
      "Message: in ios: ensure that you are using the latest version(new tab) of the n26 mobile application\n",
      "Embedding size: 512\n",
      "Embedding: [-0.004464928526431322, 0.0456877276301384, 0.04646744579076767, ...]\n",
      "\n",
      "Message: it’s not possible to deactivate contactless payments\n",
      "Embedding size: 512\n",
      "Embedding: [-0.06443911790847778, 0.012580471113324165, 0.035532478243112564, ...]\n",
      "\n",
      "Message: it’s important to keep your personal data up to date (for example, your phone number is necessary to connect your smartphone or to send and receive moneybeams)\n",
      "Embedding size: 512\n",
      "Embedding: [-0.004788025747984648, -0.03604522719979286, -0.059742219746112823, ...]\n",
      "\n"
     ]
    }
   ],
   "source": [
    "messages = extracted_n26.sample(3).answers.map(lambda x:x.split('.')[0]).values\n",
    "message_embeddings = embed(messages)\n",
    "\n",
    "for i, message_embedding in enumerate(np.array(message_embeddings).tolist()):\n",
    "    print(\"Message: {}\".format(messages[i]))\n",
    "    print(\"Embedding size: {}\".format(len(message_embedding)))\n",
    "    message_embedding_snippet = \", \".join(\n",
    "        (str(x) for x in message_embedding[:3]))\n",
    "    print(\"Embedding: [{}, ...]\\n\".format(message_embedding_snippet))"
   ]
  },
  {
   "cell_type": "code",
   "execution_count": null,
   "metadata": {
    "colab": {
     "base_uri": "https://localhost:8080/",
     "height": 211
    },
    "id": "RwkX8RDV9gqA",
    "outputId": "dd33112d-719d-4a91-e671-8f9a4456b876"
   },
   "outputs": [
    {
     "name": "stderr",
     "output_type": "stream",
     "text": [
      "/usr/local/lib/python3.6/dist-packages/ipykernel_launcher.py:34: SettingWithCopyWarning: \n",
      "A value is trying to be set on a copy of a slice from a DataFrame\n",
      "\n",
      "See the caveats in the documentation: https://pandas.pydata.org/pandas-docs/stable/user_guide/indexing.html#returning-a-view-versus-a-copy\n",
      "/usr/local/lib/python3.6/dist-packages/ipykernel_launcher.py:46: SettingWithCopyWarning: \n",
      "A value is trying to be set on a copy of a slice from a DataFrame\n",
      "\n",
      "See the caveats in the documentation: https://pandas.pydata.org/pandas-docs/stable/user_guide/indexing.html#returning-a-view-versus-a-copy\n"
     ]
    },
    {
     "name": "stdout",
     "output_type": "stream",
     "text": [
      "CPU times: user 3 µs, sys: 0 ns, total: 3 µs\n",
      "Wall time: 6.2 µs\n"
     ]
    }
   ],
   "source": [
    "def match_qas(qas_across_markets):\n",
    "    # This function assigns an faq_id to the input data, thus grouping question\n",
    "    # answer pairs across languages. A locale is the language of a market\n",
    "    \n",
    "    #Parameters:\n",
    "    #    qas_across_markets (list[\n",
    "    #                      (market_1,url_1,title_1,content_1),\n",
    "    #                      (market_2,url_2,title_2,content_2)])\n",
    "    \n",
    "    \n",
    "    #Returns:\n",
    "    #    matched_data (list[\n",
    "    #                      (faq_id_1,locale_1,market_1,title_1,content_1),\n",
    "    #                      (faq_id_1,locale_2,market_2,title_2,content_2)])\n",
    "    \n",
    "    # set up dataframe\n",
    "    qas_across_markets.columns = ['url', 'market', 'title', 'content']\n",
    "    qas_across_markets['locale'] = qas_across_markets['market'].str[:2]\n",
    "    qas_across_markets['faq_ids'] = [0] * len(qas_across_markets)\n",
    "    qas_across_markets = qas_across_markets.drop_duplicates().dropna().reset_index()\n",
    "\n",
    "    # create matrix with similarities\n",
    "    embeddings = embed(qas_across_markets['title'])\n",
    "    similarity = np.inner(embeddings, embeddings)\n",
    "\n",
    "    # compare each sentence in english with the sentences in other languages,\n",
    "    # setting group according to similarity greater than 0.4, and the greatest\n",
    "    # similarity with english within each language\n",
    "    languages = ['de', 'fr', 'es', 'it']\n",
    "    group = 0\n",
    "\n",
    "    for en_index, en_row in qas_across_markets[qas_across_markets['locale'] == 'en'].iterrows():\n",
    "        group += 1\n",
    "        qas_across_markets['faq_ids'][en_index] = group\n",
    "\n",
    "        for lang in languages:\n",
    "            lang_rows = qas_across_markets[qas_across_markets['locale'] == lang].index\n",
    "\n",
    "            sim_tups = [(similarity[en_index, lang_index], lang_index)\n",
    "                        for lang_index in lang_rows \n",
    "                          if similarity[en_index, lang_index] > 0.5]\n",
    "\n",
    "            if len(sim_tups) > 0:\n",
    "                for sim, ind in sim_tups:\n",
    "                  if sim == max(sim_tups)[0]:\n",
    "                      qas_across_markets['faq_ids'][ind] = group \n",
    "\n",
    "\n",
    "    matched_data = (list(qas_across_markets['faq_ids']),\n",
    "                    list(qas_across_markets['locale']),\n",
    "                    list(qas_across_markets['market']),\n",
    "                    list(qas_across_markets['title']),\n",
    "                    list(qas_across_markets['content']))\n",
    "    \n",
    "    return matched_data\n",
    "    \n",
    "final_results = match_qas(extracted_n26.copy())\n",
    "%time"
   ]
  },
  {
   "cell_type": "code",
   "execution_count": null,
   "metadata": {
    "colab": {
     "base_uri": "https://localhost:8080/",
     "height": 293
    },
    "id": "qzPvs7NNtulZ",
    "outputId": "9e941906-2053-43b0-862b-d01e5231dbb3"
   },
   "outputs": [
    {
     "data": {
      "text/html": [
       "<div>\n",
       "<style scoped>\n",
       "    .dataframe tbody tr th:only-of-type {\n",
       "        vertical-align: middle;\n",
       "    }\n",
       "\n",
       "    .dataframe tbody tr th {\n",
       "        vertical-align: top;\n",
       "    }\n",
       "\n",
       "    .dataframe thead th {\n",
       "        text-align: right;\n",
       "    }\n",
       "</style>\n",
       "<table border=\"1\" class=\"dataframe\">\n",
       "  <thead>\n",
       "    <tr style=\"text-align: right;\">\n",
       "      <th></th>\n",
       "      <th>0</th>\n",
       "      <th>1</th>\n",
       "      <th>2</th>\n",
       "      <th>3</th>\n",
       "      <th>4</th>\n",
       "    </tr>\n",
       "  </thead>\n",
       "  <tbody>\n",
       "    <tr>\n",
       "      <th>0</th>\n",
       "      <td>796</td>\n",
       "      <td>de</td>\n",
       "      <td>de-at</td>\n",
       "      <td>Was sind Spaces?</td>\n",
       "      <td>Setze dir Ziele, erstelle, personalisiere und ...</td>\n",
       "    </tr>\n",
       "    <tr>\n",
       "      <th>1</th>\n",
       "      <td>1</td>\n",
       "      <td>en</td>\n",
       "      <td>en-es</td>\n",
       "      <td>How to download my personal data?</td>\n",
       "      <td>The General Data Protection Regulation (GDPR) ...</td>\n",
       "    </tr>\n",
       "    <tr>\n",
       "      <th>2</th>\n",
       "      <td>0</td>\n",
       "      <td>de</td>\n",
       "      <td>de-at</td>\n",
       "      <td>Wie lange dauert eine Überweisung mit Transfer...</td>\n",
       "      <td>Wenn du eine Überweisung mit TransferWise mach...</td>\n",
       "    </tr>\n",
       "    <tr>\n",
       "      <th>3</th>\n",
       "      <td>2</td>\n",
       "      <td>en</td>\n",
       "      <td>en-de</td>\n",
       "      <td>How to manage my visibility as an N26 user?</td>\n",
       "      <td>To grant you access to all our in-app features...</td>\n",
       "    </tr>\n",
       "    <tr>\n",
       "      <th>4</th>\n",
       "      <td>3</td>\n",
       "      <td>en</td>\n",
       "      <td>en-de</td>\n",
       "      <td>How often can I withdraw cash for free?</td>\n",
       "      <td>Cash withdrawals using your Mastercard depend ...</td>\n",
       "    </tr>\n",
       "  </tbody>\n",
       "</table>\n",
       "</div>"
      ],
      "text/plain": [
       "     0  ...                                                  4\n",
       "0  796  ...  Setze dir Ziele, erstelle, personalisiere und ...\n",
       "1    1  ...  The General Data Protection Regulation (GDPR) ...\n",
       "2    0  ...  Wenn du eine Überweisung mit TransferWise mach...\n",
       "3    2  ...  To grant you access to all our in-app features...\n",
       "4    3  ...  Cash withdrawals using your Mastercard depend ...\n",
       "\n",
       "[5 rows x 5 columns]"
      ]
     },
     "execution_count": 199,
     "metadata": {
      "tags": []
     },
     "output_type": "execute_result"
    }
   ],
   "source": [
    "df = pd.DataFrame(final_results).T\n",
    "df.to_csv('final_result.csv')\n",
    "df.head()"
   ]
  },
  {
   "cell_type": "code",
   "execution_count": null,
   "metadata": {
    "colab": {
     "base_uri": "https://localhost:8080/",
     "height": 139
    },
    "id": "SUHr4Ewu5iI6",
    "outputId": "aa559f6e-c047-4817-cfd2-0abca12a518d"
   },
   "outputs": [
    {
     "data": {
      "text/plain": [
       "20      Comment fonctionne Google Pay ?\n",
       "595          ¿Cómo funciona Google Pay?\n",
       "813        Wie funktioniert Google Pay?\n",
       "1309             How to use Google Pay?\n",
       "1355       Wie funktioniert Google Pay?\n",
       "1401          Come funziona Google Pay?\n",
       "Name: 3, dtype: object"
      ]
     },
     "execution_count": 200,
     "metadata": {
      "tags": []
     },
     "output_type": "execute_result"
    }
   ],
   "source": [
    "df[df[0] == 769][3]"
   ]
  },
  {
   "cell_type": "code",
   "execution_count": null,
   "metadata": {
    "colab": {
     "base_uri": "https://localhost:8080/",
     "height": 69
    },
    "id": "4IYmOltt-9zK",
    "outputId": "d681e9df-7240-46e8-97c9-1252f2e9baff"
   },
   "outputs": [
    {
     "data": {
      "text/plain": [
       "702     Comment transférer de l’argent vers des compte...\n",
       "1403         How to make transfers in foreign currencies?\n",
       "Name: 3, dtype: object"
      ]
     },
     "execution_count": 201,
     "metadata": {
      "tags": []
     },
     "output_type": "execute_result"
    }
   ],
   "source": [
    "df[df[0] == 828][3]"
   ]
  },
  {
   "cell_type": "code",
   "execution_count": null,
   "metadata": {
    "colab": {
     "base_uri": "https://localhost:8080/",
     "height": 104
    },
    "id": "AH6dO5hy_9Lz",
    "outputId": "4ae28839-ba74-4365-f26a-5dbc4e77b929"
   },
   "outputs": [
    {
     "data": {
      "text/plain": [
       "558      Ingresa mediante tarjeta, Apple Pay y Google Pay\n",
       "1066           Ricarica con carta, Apple Pay e Google Pay\n",
       "1137    Alimenter mon compte par carte, Apple Pay et G...\n",
       "1159     How to top up by card, Apple Pay, and Google Pay\n",
       "Name: 3, dtype: object"
      ]
     },
     "execution_count": 207,
     "metadata": {
      "tags": []
     },
     "output_type": "execute_result"
    }
   ],
   "source": [
    "df[df[0] == 679][3]"
   ]
  },
  {
   "cell_type": "code",
   "execution_count": null,
   "metadata": {
    "colab": {
     "base_uri": "https://localhost:8080/",
     "height": 260
    },
    "id": "RsREub9o-z08",
    "outputId": "5630fb8a-af11-426f-900a-ccb7623ad435"
   },
   "outputs": [
    {
     "name": "stdout",
     "output_type": "stream",
     "text": [
      "0\n",
      "588\n",
      "679\n",
      "700\n",
      "737\n",
      "748\n",
      "750\n",
      "769\n",
      "776\n",
      "787\n",
      "796\n",
      "808\n",
      "810\n",
      "830\n"
     ]
    }
   ],
   "source": [
    "for i, j in enumerate(df.groupby(0).count()[1]):\n",
    "  if j > 2:\n",
    "    print(i)"
   ]
  },
  {
   "cell_type": "markdown",
   "metadata": {
    "id": "RbuayIEfTvAT"
   },
   "source": [
    "### Extras for later"
   ]
  },
  {
   "cell_type": "code",
   "execution_count": null,
   "metadata": {
    "colab": {
     "base_uri": "https://localhost:8080/",
     "height": 52
    },
    "id": "i097IZLGnrD6",
    "outputId": "69d9115d-f117-476e-9378-57f47c9aeedc"
   },
   "outputs": [
    {
     "name": "stdout",
     "output_type": "stream",
     "text": [
      "CPU times: user 3 µs, sys: 0 ns, total: 3 µs\n",
      "Wall time: 6.2 µs\n"
     ]
    }
   ],
   "source": [
    "# Another way to do it: faster but highly dependend on embeddings\n",
    "\n",
    "def match_qas(qas_across_markets):\n",
    "    # This function assigns an faq_id to the input data, thus grouping question\n",
    "    # answer pairs across languages. A locale is the language of a market\n",
    "    \n",
    "    #Parameters:\n",
    "    #    qas_across_markets (list[\n",
    "    #                      (market_1,url_1,title_1,content_1),\n",
    "    #                      (market_2,url_2,title_2,content_2)])\n",
    "    \n",
    "    \n",
    "    #Returns:\n",
    "    #    matched_data (list[\n",
    "    #                      (faq_id_1,locale_1,market_1,title_1,content_1),\n",
    "    #                      (faq_id_1,locale_2,market_2,title_2,content_2)])\n",
    "    \n",
    "    # dataframe adjustments\n",
    "    qas_across_markets.columns = ['url', 'market', 'title', 'content']\n",
    "    qas_across_markets['locale'] = qas_across_markets['market'].str[:2]\n",
    "    qas_across_markets = qas_across_markets.drop_duplicates().dropna().reset_index()\n",
    "\n",
    "    # create matrix with similarities\n",
    "    embeddings = np.inner(embed(qas_across_markets['title']), embed(qas_across_markets['title']))\n",
    "    \n",
    "    # compare each sentence in english with the sentences in other languages,\n",
    "    # grouping them in a dict if the similarity (np.inner) is greater than 0.7\n",
    "    mapping = {}\n",
    "    group = 0\n",
    "    for en_index, en_row in qas_across_markets[qas_across_markets['locale'] == 'en'].iterrows():\n",
    "        group += 1\n",
    "        mapping.setdefault(group, []).extend([en_index])\n",
    "        lang_rows = qas_across_markets[qas_across_markets['locale'] != 'en'].index\n",
    "        [mapping[group].append(lang_index)\n",
    "          for lang_index in lang_rows\n",
    "            if embeddings[en_index, lang_index] > 0.7]\n",
    "\n",
    "    # creates a list in same order of the dataframe, to set the corresponding\n",
    "    # group to each sentence\n",
    "    groups = []\n",
    "    for i in qas_across_markets.index:\n",
    "        for k, v in mapping.items():\n",
    "            noMatch = True\n",
    "            if i in v:\n",
    "                noMatch = False\n",
    "                groups.append(k)\n",
    "                break\n",
    "        if noMatch:\n",
    "              groups.append(0)\n",
    "\n",
    "    qas_across_markets['faq_ids'] = groups\n",
    "\n",
    "    matched_data = (list(qas_across_markets['faq_ids']),\n",
    "                    list(qas_across_markets['locale']),\n",
    "                    list(qas_across_markets['market']),\n",
    "                    list(qas_across_markets['title']),\n",
    "                    list(qas_across_markets['content']))\n",
    "    \n",
    "    return matched_data\n",
    "    \n",
    "final_results = match_qas(extracted_n26.copy())\n",
    "%time"
   ]
  },
  {
   "cell_type": "code",
   "execution_count": null,
   "metadata": {
    "colab": {
     "base_uri": "https://localhost:8080/",
     "height": 52
    },
    "id": "UstP9O1KtcTV",
    "outputId": "b6d38de9-e4d8-4717-934f-0375bb4822a4"
   },
   "outputs": [
    {
     "name": "stdout",
     "output_type": "stream",
     "text": [
      "CPU times: user 4 µs, sys: 0 ns, total: 4 µs\n",
      "Wall time: 6.44 µs\n"
     ]
    }
   ],
   "source": [
    "## Another, but slower method\n",
    "\n",
    "def match_qas_b(qas_across_markets):\n",
    "    # This function assigns an faq_id to the input data, thus grouping question\n",
    "    # answer pairs across languages. A locale is the language of a market\n",
    "    \n",
    "    #Parameters:\n",
    "    #    qas_across_markets (list[\n",
    "    #                      (market_1,url_1,title_1,content_1),\n",
    "    #                      (market_2,url_2,title_2,content_2)])\n",
    "    \n",
    "    \n",
    "    #Returns:\n",
    "    #    matched_data (list[\n",
    "    #                      (faq_id_1,locale_1,market_1,title_1,content_1),\n",
    "    #                      (faq_id_1,locale_2,market_2,title_2,content_2)])\n",
    "    \n",
    "    # dataframe adjustments\n",
    "    qas_across_markets.columns = ['url', 'market', 'title', 'content']\n",
    "    qas_across_markets['locale'] = qas_across_markets['market'].str[:2]\n",
    "    qas_across_markets = qas_across_markets.drop_duplicates().dropna()\n",
    "    qas_across_markets['embedding'] = embed(qas_across_markets['title'])\n",
    "\n",
    "    languages = ['de', 'fr', 'es', 'it']\n",
    "    \n",
    "    # compare each sentence in english with the sentences in other languages,\n",
    "    # grouping them in a dict if the similarity (np.inner) is greater than 0.7\n",
    "    mapping = {en_index:[lang_index\n",
    "                        for lang in languages\n",
    "                          for lang_index, lang_row in qas_across_markets[qas_across_markets['locale'] == lang].iterrows()\n",
    "                            if np.inner(en_row['embedding'], lang_row['embedding']) > 0.7] + [en_index]\n",
    "              \n",
    "              for en_index, en_row in qas_across_markets[qas_across_markets['locale'] == 'en'].iterrows()}\n",
    "\n",
    "    # gives a number for each group\n",
    "    groups_mapping = {list(mapping.keys())[v-1]:v\n",
    "                      for v in range(1, len(mapping.keys())+1)}\n",
    "    \n",
    "    # adds the group 0, which will represent the sentences that weren't matched in any other group\n",
    "    groups_mapping[0] = 0\n",
    "\n",
    "    # creates a list in same order of the dataframe, to set the corresponding\n",
    "    # group to each sentence\n",
    "    groups = []\n",
    "    for i in qas_across_markets.index:\n",
    "        for k, v in mapping.items():\n",
    "            g = 0\n",
    "            if i in v:\n",
    "                g = k\n",
    "                break\n",
    "        groups.append(groups_mapping[g])\n",
    "\n",
    "    qas_across_markets['faq_ids'] = groups\n",
    "\n",
    "    matched_data = (list(qas_across_markets['faq_ids']),\n",
    "                    list(qas_across_markets['locale']),\n",
    "                    list(qas_across_markets['market']),\n",
    "                    list(qas_across_markets['title']),\n",
    "                    list(qas_across_markets['content']))\n",
    "    \n",
    "    return matched_data\n",
    "    \n",
    "    \n",
    "final_results = match_qas_b(extracted_n26.copy())\n",
    "%time"
   ]
  },
  {
   "cell_type": "code",
   "execution_count": null,
   "metadata": {
    "colab": {
     "base_uri": "https://localhost:8080/",
     "height": 501
    },
    "id": "mIcX0uamjpUr",
    "outputId": "fee979c7-59c7-457e-a84d-1f3ed89b265d"
   },
   "outputs": [
    {
     "name": "stderr",
     "output_type": "stream",
     "text": [
      "/usr/local/lib/python3.6/dist-packages/ipykernel_launcher.py:3: SettingWithCopyWarning: \n",
      "A value is trying to be set on a copy of a slice from a DataFrame.\n",
      "Try using .loc[row_indexer,col_indexer] = value instead\n",
      "\n",
      "See the caveats in the documentation: https://pandas.pydata.org/pandas-docs/stable/user_guide/indexing.html#returning-a-view-versus-a-copy\n",
      "  This is separate from the ipykernel package so we can avoid doing imports until\n",
      "/usr/local/lib/python3.6/dist-packages/ipykernel_launcher.py:10: SettingWithCopyWarning: \n",
      "A value is trying to be set on a copy of a slice from a DataFrame.\n",
      "Try using .loc[row_indexer,col_indexer] = value instead\n",
      "\n",
      "See the caveats in the documentation: https://pandas.pydata.org/pandas-docs/stable/user_guide/indexing.html#returning-a-view-versus-a-copy\n",
      "  # Remove the CWD from sys.path while we load stuff.\n"
     ]
    },
    {
     "data": {
      "text/html": [
       "<div>\n",
       "<style scoped>\n",
       "    .dataframe tbody tr th:only-of-type {\n",
       "        vertical-align: middle;\n",
       "    }\n",
       "\n",
       "    .dataframe tbody tr th {\n",
       "        vertical-align: top;\n",
       "    }\n",
       "\n",
       "    .dataframe thead th {\n",
       "        text-align: right;\n",
       "    }\n",
       "</style>\n",
       "<table border=\"1\" class=\"dataframe\">\n",
       "  <thead>\n",
       "    <tr style=\"text-align: right;\">\n",
       "      <th></th>\n",
       "      <th>url</th>\n",
       "      <th>market</th>\n",
       "      <th>title</th>\n",
       "      <th>content</th>\n",
       "      <th>locale</th>\n",
       "      <th>groups_test</th>\n",
       "      <th>id_test</th>\n",
       "    </tr>\n",
       "  </thead>\n",
       "  <tbody>\n",
       "    <tr>\n",
       "      <th>0</th>\n",
       "      <td>https://support.n26.com/de-at/app-und-produkte...</td>\n",
       "      <td>de-at</td>\n",
       "      <td>Was sind Spaces?</td>\n",
       "      <td>Setze dir Ziele, erstelle, personalisiere und ...</td>\n",
       "      <td>de</td>\n",
       "      <td>app und produkte</td>\n",
       "      <td>0.0</td>\n",
       "    </tr>\n",
       "    <tr>\n",
       "      <th>72</th>\n",
       "      <td>https://support.n26.com/de-de/app-und-produkte...</td>\n",
       "      <td>de-de</td>\n",
       "      <td>Wie kann ich meinen Kreditantrag widerrufen?</td>\n",
       "      <td>Der Widerruf von N26 Credit Darlehen ist koste...</td>\n",
       "      <td>de</td>\n",
       "      <td>app und produkte</td>\n",
       "      <td>0.0</td>\n",
       "    </tr>\n",
       "    <tr>\n",
       "      <th>78</th>\n",
       "      <td>https://support.n26.com/de-de/konto-und-person...</td>\n",
       "      <td>de-de</td>\n",
       "      <td>Warum funktioniert meine Video-Verifizierung n...</td>\n",
       "      <td>Einige Tipps für eine erfolgreiche Video-Verif...</td>\n",
       "      <td>de</td>\n",
       "      <td>konto und personliche informationen</td>\n",
       "      <td>3.0</td>\n",
       "    </tr>\n",
       "    <tr>\n",
       "      <th>67</th>\n",
       "      <td>https://support.n26.com/de-de/app-und-produkte...</td>\n",
       "      <td>de-de</td>\n",
       "      <td>Kann ich die N26 App auf mein Smartphone herun...</td>\n",
       "      <td>Die neueste Version der N26 App kannst du im A...</td>\n",
       "      <td>de</td>\n",
       "      <td>app und produkte</td>\n",
       "      <td>0.0</td>\n",
       "    </tr>\n",
       "    <tr>\n",
       "      <th>79</th>\n",
       "      <td>https://support.n26.com/de-at/app-und-produkte...</td>\n",
       "      <td>de-at</td>\n",
       "      <td>Shared Spaces - Vertrauenswürdiger Empfänger</td>\n",
       "      <td>Vertrauenswürdige Empfänger eines Shared Space...</td>\n",
       "      <td>de</td>\n",
       "      <td>app und produkte</td>\n",
       "      <td>0.0</td>\n",
       "    </tr>\n",
       "  </tbody>\n",
       "</table>\n",
       "</div>"
      ],
      "text/plain": [
       "                                                  url  ... id_test\n",
       "0   https://support.n26.com/de-at/app-und-produkte...  ...     0.0\n",
       "72  https://support.n26.com/de-de/app-und-produkte...  ...     0.0\n",
       "78  https://support.n26.com/de-de/konto-und-person...  ...     3.0\n",
       "67  https://support.n26.com/de-de/app-und-produkte...  ...     0.0\n",
       "79  https://support.n26.com/de-at/app-und-produkte...  ...     0.0\n",
       "\n",
       "[5 rows x 7 columns]"
      ]
     },
     "execution_count": 16,
     "metadata": {
      "tags": []
     },
     "output_type": "execute_result"
    }
   ],
   "source": [
    "# TODO manually generate groups/subgroups, adjusting them to match kmeans labels and try to evaluate\n",
    "\n",
    "groups = {0: ['app und produkte', 'application et produits', 'app and features', 'app e opzioni', 'application et produits', 'app y herramientas'],\n",
    "          1: ['zahlungen ueberweisungen und abhebungen', 'payments transfers and withdrawals', 'paiements virements et retraits', 'pagos transferencias y retiradas', 'pagamenti prelievi e bonifici'],\n",
    "          2: ['sicherheit', 'security', 'securite', 'seguridad', 'sicurezza'],\n",
    "          3: ['konto und personliche informationen', 'account and personal details', 'compte et informations personnelles', 'cuenta e informacion personal', 'conto e informazioni personali'],\n",
    "          4: ['mitgliedschaften und kontotypen', 'memberships and account types', 'adhesions et formules de compte', 'tipos de cuenta y suscripciones', 'conti e sottoscrizioni'],\n",
    "          5: ['karten', 'cards', 'cartes', 'tarjetas', 'carte'],\n",
    "          6: ['mitteilungen', 'announcements', 'annonces', 'annunci'],\n",
    "          7: ['article'],\n",
    "          8: ['getting started', 'come iniziare'],\n",
    "          9: ['fixing an issue', 'resoudre un probleme', 'risolvi un problema']\n",
    "          }\n",
    "\n",
    "matched_data = []\n",
    "\n",
    "qas_across_markets['groups_test'] = qas_across_markets['url'].apply(lambda x: x.split('/')[4].replace('-', ' ') if len(x.split('/')) > 4 else '')\n",
    "\n",
    "def define_group(x):\n",
    "    for k, v in groups.items():\n",
    "        if x in v:\n",
    "            return k\n",
    "\n",
    "qas_across_markets['id_test'] = qas_across_markets['groups_test'].apply(lambda x: define_group(x) if x != '' else None)\n",
    "\n",
    "qas_across_markets.head()"
   ]
  },
  {
   "cell_type": "code",
   "execution_count": null,
   "metadata": {
    "id": "9wM3FLg_H2JB"
   },
   "outputs": [],
   "source": [
    "## CLUSTERING BY LANGUAGE\n",
    "\n",
    "def match_qas_lang(qas_across_markets):\n",
    "    # This function assigns an faq_id to the input data, thus grouping question\n",
    "    # answer pairs across languages. A locale is the language of a market\n",
    "    \n",
    "    #Parameters:\n",
    "    #    qas_across_markets (list[\n",
    "    #                      (market_1,url_1,title_1,content_1),\n",
    "    #                      (market_2,url_2,title_2,content_2)])\n",
    "    \n",
    "    \n",
    "    #Returns:\n",
    "    #    matched_data (list[\n",
    "    #                      (faq_id_1,locale_1,market_1,title_1,content_1),\n",
    "    #                      (faq_id_1,locale_2,market_2,title_2,content_2)])\n",
    "    \n",
    "    matched_data = []\n",
    "\n",
    "    qas_across_markets.columns = ['url', 'market', 'title', 'content']\n",
    "    qas_across_markets['locale'] = qas_across_markets['market'].str[:2]\n",
    "    # added groups according to url to check clusters latter on\n",
    "    qas_across_markets['groups'] = qas_across_markets['url'].apply(lambda x: x.split('/')[4].replace('-', ' ') if len(x.split('/')) > 4 else '')\n",
    "\n",
    "    #sorting by locale, so embeddings will remain in same order\n",
    "    qas_across_markets.sort_values('locale', inplace=True)\n",
    "\n",
    "    embeddings = []\n",
    "\n",
    "    for lang in sorted(qas_across_markets['locale'].unique()):\n",
    "        temp = qas_across_markets[qas_across_markets['locale'] == lang]['title']\n",
    "        embeded = list(embed(temp))\n",
    "        embeddings += embeded   \n",
    "\n",
    "    # using kmeans to cluster closest embeddings (10 clusters to represent the 10 questions segments)    \n",
    "    kmeans = KMeansClusterer(10, distance=cosine_distance, repeats=20, avoid_empty_clusters=True)\n",
    "    clusters = kmeans.cluster(embeddings, assign_clusters=True)\n",
    "    qas_across_markets['faq_ids'] = clusters\n",
    "\n",
    "    matched_data = (list(qas_across_markets['faq_ids']),\n",
    "                    list(qas_across_markets['locale']),\n",
    "                    list(qas_across_markets['market']),\n",
    "                    list(qas_across_markets['title']),\n",
    "                    list(qas_across_markets['content']),\n",
    "                    list(qas_across_markets['groups']))\n",
    "    \n",
    "    return matched_data"
   ]
  },
  {
   "cell_type": "code",
   "execution_count": null,
   "metadata": {
    "id": "HIEOfPlDq3PJ"
   },
   "outputs": [],
   "source": [
    "# TODO: test this code to develop a search engine\n",
    "\n",
    "language_to_embeddings = {}\n",
    "\n",
    "for lang in sorted(qas_across_markets['locale'].unique()):\n",
    "    questions = qas_across_markets[qas_across_markets['locale'] == lang]['title']\n",
    "    language_to_embeddings.setdefault(lang, []).extend(embed(questions))\n",
    "\n",
    "embedding_dimensions = len(list(language_to_embeddings.values())[0][0])\n",
    "\n",
    "num_index_trees = 40\n",
    "language_name_to_index = {}\n",
    "embedding_dimensions = len(list(language_to_embeddings.values())[0][0])\n",
    "\n",
    "for lang in sorted(qas_across_markets['locale'].unique()):\n",
    "    index = SimpleNeighbors(embedding_dimensions, metric='dot')\n",
    "\n",
    "    for i in range(len(language_to_sentences[lang])):\n",
    "        index.add_one(language_to_sentences[lang][i], language_to_embeddings[lang][i])\n",
    "\n",
    "    index.build(n=num_index_trees)\n",
    "    language_name_to_index[lang] = index\n",
    "\n",
    "\n",
    "num_index_trees = 60\n",
    "combined_index = SimpleNeighbors(embedding_dimensions, metric='dot')\n",
    "\n",
    "for lang in sorted(qas_across_markets['locale'].unique()):\n",
    "    for i in trange(len(language_to_sentences[language_code])):\n",
    "        annotated_sentence = '({}) {}'.format(lang, language_to_sentences[lang][i])\n",
    "        combined_index.add_one(annotated_sentence, language_to_embeddings[lang][i])\n",
    "\n",
    "combined_index.build(n=num_index_trees)\n"
   ]
  }
 ],
 "metadata": {
  "colab": {
   "collapsed_sections": [],
   "name": "Untitled",
   "provenance": []
  },
  "kernelspec": {
   "display_name": "Python 3",
   "language": "python",
   "name": "python3"
  },
  "language_info": {
   "codemirror_mode": {
    "name": "ipython",
    "version": 3
   },
   "file_extension": ".py",
   "mimetype": "text/x-python",
   "name": "python",
   "nbconvert_exporter": "python",
   "pygments_lexer": "ipython3",
   "version": "3.8.5"
  }
 },
 "nbformat": 4,
 "nbformat_minor": 1
}
